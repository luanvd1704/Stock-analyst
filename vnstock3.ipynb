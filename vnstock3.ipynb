{
 "cells": [
  {
   "cell_type": "code",
   "execution_count": 1,
   "metadata": {},
   "outputs": [
    {
     "data": {
      "text/markdown": [
       "Phiên bản Vnstock 0.3.0.8 đã có mặt, vui lòng cập nhật với câu lệnh : `pip install vnstock3 --upgrade`.\n",
       "Lịch sử phiên bản: https://vnstocks.com/docs/tai-lieu/lich-su-phien-ban\n",
       "Phiên bản hiện tại 0.3.0.7"
      ],
      "text/plain": [
       "<IPython.core.display.Markdown object>"
      ]
     },
     "metadata": {},
     "output_type": "display_data"
    },
    {
     "name": "stderr",
     "output_type": "stream",
     "text": [
      "2024-10-16 11:05:59,870 - vnstock3.common.data.data_explorer - WARNING - Thông tin niêm yết & giao dịch sẽ được truy xuất từ TCBS\n",
      "2024-10-16 11:05:59,871 - vnstock3.common.data.data_explorer - WARNING - Thông tin niêm yết & giao dịch sẽ được truy xuất từ TCBS\n"
     ]
    }
   ],
   "source": [
    "from vnstock3 import * \n",
    "from vnstock3 import Vnstock\n",
    "from vnstock3 import Vnstock\n",
    "stock = Vnstock().stock(symbol='ACB', source='VCI')\n",
    "pan_stock = Vnstock().stock(symbol='PAN', source='VCI')"
   ]
  },
  {
   "cell_type": "markdown",
   "metadata": {},
   "source": [
    "LẤY GIÁ DỮ LIỆU REALTIME"
   ]
  },
  {
   "cell_type": "code",
   "execution_count": 3,
   "metadata": {},
   "outputs": [
    {
     "name": "stdout",
     "output_type": "stream",
     "text": [
      "   Mã cổ phiếu                Time    Price        Date\n",
      "0          MBB 2024-10-16 11:23:56  25600.0  2024-10-16\n",
      "1          BID 2024-10-16 11:24:25  50000.0  2024-10-16\n",
      "2          VCB 2024-10-16 11:24:05  91500.0  2024-10-16\n",
      "3          VHM 2024-10-16 11:24:27  44650.0  2024-10-16\n",
      "4          AMV 2024-10-16 11:23:11   2200.0  2024-10-16\n",
      "5          BVB 2024-10-16 11:23:25  11700.0  2024-10-16\n",
      "6          PAN 2024-10-16 11:24:05  24800.0  2024-10-16\n",
      "7          TNG 2024-10-16 11:19:50  24000.0  2024-10-16\n",
      "8          SSI 2024-10-16 11:24:30  27400.0  2024-10-16\n",
      "9          POW 2024-10-16 11:22:32  12650.0  2024-10-16\n",
      "10         NT2 2024-10-16 11:22:18  19600.0  2024-10-16\n",
      "11         VLB 2024-10-16 10:24:50  40500.0  2024-10-16\n",
      "12         TVN 2024-10-16 11:22:11   8100.0  2024-10-16\n",
      "13         DBC 2024-10-16 11:24:18  30100.0  2024-10-16\n",
      "14         MML 2024-10-16 11:10:08  25000.0  2024-10-16\n",
      "15         GVR 2024-10-16 11:23:35  35900.0  2024-10-16\n",
      "16         VCG 2024-10-16 11:20:19  18350.0  2024-10-16\n",
      "17         HAN 2024-10-16 11:16:52  10100.0  2024-10-16\n",
      "18         BAF 2024-10-16 11:24:23  22800.0  2024-10-16\n",
      "19         ADS 2024-10-16 11:10:32   9990.0  2024-10-16\n",
      "20         YEG 2024-10-16 11:23:24   9470.0  2024-10-16\n"
     ]
    }
   ],
   "source": [
    "import pandas as pd\n",
    "from datetime import datetime\n",
    "\n",
    "# Danh sách các mã cổ phiếu\n",
    "symbols = ['MBB', 'BID', 'VCB', 'VHM', 'AMV', 'BVB', 'PAN', 'TNG', 'SSI', 'POW', 'NT2', 'VLB', 'TVN', 'DBC', 'MML', 'GVR', 'VCG', 'HAN', 'BAF', 'ADS', 'YEG']\n",
    "\n",
    "# Tạo danh sách để lưu trữ dữ liệu\n",
    "data = []\n",
    "\n",
    "for symbol in symbols:\n",
    "    df = stock.quote.intraday(symbol=symbol, show_log=False)\n",
    "    # Chuyển đổi cột 'time' thành kiểu datetime\n",
    "    df['time'] = pd.to_datetime(df['time'])\n",
    "    # Sắp xếp DataFrame theo cột 'time' giảm dần (thời gian mới nhất lên đầu tiên)\n",
    "    df_sorted = df.sort_values(by='time', ascending=False)\n",
    "    # Lấy dòng đầu tiên (thời gian gần nhất)\n",
    "    latest_time = df_sorted.iloc[0]['time']\n",
    "    latest_price = df_sorted.iloc[0]['price']\n",
    "    # Thêm dữ liệu vào danh sách\n",
    "    data.append([symbol, latest_time, latest_price])\n",
    "\n",
    "# Tạo DataFrame từ danh sách dữ liệu\n",
    "intra_data = pd.DataFrame(data, columns=['Mã cổ phiếu', 'Time', 'Price'])\n",
    "\n",
    "# Đảm bảo cột 'Time' là kiểu datetime\n",
    "intra_data['Time'] = pd.to_datetime(intra_data['Time'])\n",
    "\n",
    "# Tạo thêm cột 'Date' từ cột 'Time'\n",
    "intra_data['Date'] = intra_data['Time'].dt.date\n",
    "\n",
    "# Hiển thị DataFrame kết quả\n",
    "print(intra_data)"
   ]
  },
  {
   "cell_type": "markdown",
   "metadata": {},
   "source": [
    "DÁNH SÁCH MUA VÀO CÁC CỔ PHIẾU T+"
   ]
  },
  {
   "cell_type": "code",
   "execution_count": 4,
   "metadata": {},
   "outputs": [
    {
     "name": "stdout",
     "output_type": "stream",
     "text": [
      "+------------+---------------+-----------+--------+-----------+--------------+-----------------+----------------+-----------------+----------+\n",
      "| Ngày mua   | Mã cổ phiếu   | Loại GD   |   KLGD |   Giá mua |   Giá trị GD |   Current_price | Current_Date   |   Current value |      P&L |\n",
      "+============+===============+===========+========+===========+==============+=================+================+=================+==========+\n",
      "| 2024-10-16 | DBC           | BUY       |   1000 |     35000 |     35000000 |           30100 | 2024-10-16     |        30100000 | -4900000 |\n",
      "+------------+---------------+-----------+--------+-----------+--------------+-----------------+----------------+-----------------+----------+\n",
      "| 2024-10-16 | AMV           | BUY       |   1000 |      3400 |      3400000 |            2200 | 2024-10-16     |         2200000 | -1200000 |\n",
      "+------------+---------------+-----------+--------+-----------+--------------+-----------------+----------------+-----------------+----------+\n",
      "| 2024-10-16 | BVB           | BUY       |   1000 |     11800 |     11800000 |           11700 | 2024-10-16     |        11700000 |  -100000 |\n",
      "+------------+---------------+-----------+--------+-----------+--------------+-----------------+----------------+-----------------+----------+\n",
      "| 2024-10-16 | TNG           | BUY       |   1000 |     24000 |     24000000 |           24000 | 2024-10-16     |        24000000 |        0 |\n",
      "+------------+---------------+-----------+--------+-----------+--------------+-----------------+----------------+-----------------+----------+\n",
      "| 2024-10-16 | PAN           | BUY       |   1000 |     24800 |     24800000 |           24800 | 2024-10-16     |        24800000 |        0 |\n",
      "+------------+---------------+-----------+--------+-----------+--------------+-----------------+----------------+-----------------+----------+\n",
      "| 2024-10-16 | VLB           | BUY       |   1000 |     35000 |     35000000 |           40500 | 2024-10-16     |        40500000 |  5500000 |\n",
      "+------------+---------------+-----------+--------+-----------+--------------+-----------------+----------------+-----------------+----------+\n",
      "| 2024-10-16 | MML           | BUY       |   1000 |     28000 |     28000000 |           25000 | 2024-10-16     |        25000000 | -3000000 |\n",
      "+------------+---------------+-----------+--------+-----------+--------------+-----------------+----------------+-----------------+----------+\n",
      "| 2024-10-16 | ADS           | BUY       |   1000 |     13300 |     13300000 |            9990 | 2024-10-16     |         9990000 | -3310000 |\n",
      "+------------+---------------+-----------+--------+-----------+--------------+-----------------+----------------+-----------------+----------+\n",
      "| 2024-10-16 | YEG           | BUY       |   1000 |      9200 |      9200000 |            9470 | 2024-10-16     |         9470000 |   270000 |\n",
      "+------------+---------------+-----------+--------+-----------+--------------+-----------------+----------------+-----------------+----------+\n",
      "\n",
      "Tổng giá trị giao dịch: 184.50 triệu VND\n",
      "Tổng giá trị hiện tại: 177.76 triệu VND\n",
      "Tổng P&L: -6.74 triệu VND\n"
     ]
    }
   ],
   "source": [
    "from datetime import datetime\n",
    "\n",
    "# Danh sách các mã chứng khoán đã chọn\n",
    "stock_symbols = [\"DBC\", \"AMV\", \"BVB\", \"TNG\", \"PAN\", \"VLB\", \"MML\", \"ADS\",'YEG']\n",
    "\n",
    "# Giá hiện tại của các mã chứng khoán\n",
    "current_prices = {\n",
    "    \"DBC\": 35000,\n",
    "    \"AMV\": 3400,\n",
    "    \"BVB\": 11800,\n",
    "    \"TNG\": 24000,\n",
    "    \"PAN\": 24800,\n",
    "    \"VLB\": 35000,\n",
    "    \"MML\": 28000,\n",
    "    \"ADS\": 13300,\n",
    "    \"YEG\": 9200,\n",
    "    \"AGM\": 4200\n",
    "}\n",
    "\n",
    "# Ngày giao dịch gần nhất\n",
    "current_date = datetime.now().strftime('%Y-%m-%d')\n",
    "\n",
    "# Tạo DataFrame với tất cả các cột\n",
    "data = {\n",
    "    \"Ngày mua\": [current_date] * len(stock_symbols),\n",
    "    \"Mã cổ phiếu\": stock_symbols,\n",
    "    \"Loại GD\": [\"BUY\"] * len(stock_symbols),\n",
    "    \"KLGD\": [1000] * len(stock_symbols),\n",
    "    \"Giá mua\": [current_prices[symbol] for symbol in stock_symbols],\n",
    "    \"Giá trị GD\": [current_prices[symbol] * 1000 for symbol in stock_symbols]\n",
    "}\n",
    "STTrades = pd.DataFrame(data)\n",
    "\n",
    "# Thêm các cột mới\n",
    "for symbol in STTrades['Mã cổ phiếu']:\n",
    "    symbol_data = intra_data[intra_data['Mã cổ phiếu'] == symbol]\n",
    "    if not symbol_data.empty:\n",
    "        STTrades.loc[STTrades['Mã cổ phiếu'] == symbol, 'Current_price'] = symbol_data['Price'].iloc[-1].astype(int)\n",
    "        STTrades.loc[STTrades['Mã cổ phiếu'] == symbol, 'Current_Date'] = symbol_data['Date'].iloc[-1]\n",
    "    else:\n",
    "        STTrades.loc[STTrades['Mã cổ phiếu'] == symbol, 'Current_price'] = None\n",
    "        STTrades.loc[STTrades['Mã cổ phiếu'] == symbol, 'Current_Date'] = None\n",
    "\n",
    "STTrades['Current_price'] = STTrades['Current_price'].astype('Int64')  # Chuyển đổi sang kiểu dữ liệu Int64 để hỗ trợ giá trị None\n",
    "STTrades['Current value'] = (STTrades['Current_price'] * STTrades['KLGD']).astype('Int64')\n",
    "STTrades['P&L'] = (STTrades['Current value'] - STTrades['Giá trị GD']).astype('Int64')\n",
    "\n",
    "# Tính tổng giá trị giao dịch\n",
    "total_value = STTrades['Giá trị GD'].sum()\n",
    "\n",
    "# Tính tổng giá trị hiện tại\n",
    "total_current_value = STTrades['Current value'].sum()\n",
    "\n",
    "# Tính tổng P&L\n",
    "total_PnL = STTrades['P&L'].sum()\n",
    "\n",
    "# Chuyển đổi sang đơn vị triệu VND\n",
    "total_value_million = total_value / 1_000_000\n",
    "total_current_value_million = total_current_value / 1_000_000\n",
    "total_PnL_million = total_PnL / 1_000_000\n",
    "# Hiển thị DataFrame và tổng giá trị giao dịch\n",
    "from tabulate import tabulate\n",
    "\n",
    "print(tabulate(STTrades, headers='keys', tablefmt='grid', showindex=False))\n",
    "print(f\"\\nTổng giá trị giao dịch: {total_value_million:.2f} triệu VND\")\n",
    "print(f\"Tổng giá trị hiện tại: {total_current_value_million:.2f} triệu VND\")\n",
    "print(f\"Tổng P&L: {total_PnL_million:.2f} triệu VND\")"
   ]
  },
  {
   "cell_type": "markdown",
   "metadata": {},
   "source": [
    "CỔ PHIẾU ĐẦU TƯ"
   ]
  },
  {
   "cell_type": "code",
   "execution_count": 5,
   "metadata": {},
   "outputs": [
    {
     "name": "stdout",
     "output_type": "stream",
     "text": [
      "      Ngày mua Mã cổ phiếu Loại GD  KLGD  Giá mua  Giá trị GD  Current_price  \\\n",
      "0   2024-09-22         VCB     BUY  1000    88000    88000000          90600   \n",
      "1   2024-09-22         VCG     BUY  1000    18600    18600000          18650   \n",
      "2   2024-09-22         BID     BUY  1000    44000    44000000          49050   \n",
      "3   2024-09-22         GVR     BUY  1000    35000    35000000          35600   \n",
      "4   2024-09-22         VHM     BUY  1000    38000    38000000          43750   \n",
      "5   2024-09-22         POW     BUY  1000    14000    14000000          12550   \n",
      "6   2024-09-22         NT2     BUY  1000    22000    22000000          19950   \n",
      "7   2024-09-22         HAN     BUY  1000    11000    11000000          11100   \n",
      "8   2024-09-22         BAF     BUY  1000    19600    19600000          20800   \n",
      "9   2024-09-22         SSI     BUY  1000    34000    34000000          33600   \n",
      "10  2024-09-22         MBB     BUY  1000    22800    22800000          24750   \n",
      "\n",
      "   Current_Date  Current value  \n",
      "0    2024-09-20       90600000  \n",
      "1    2024-09-20       18650000  \n",
      "2    2024-09-20       49050000  \n",
      "3    2024-09-20       35600000  \n",
      "4    2024-09-20       43750000  \n",
      "5    2024-09-20       12550000  \n",
      "6    2024-09-20       19950000  \n",
      "7    2024-09-20       11100000  \n",
      "8    2024-09-20       20800000  \n",
      "9    2024-09-20       33600000  \n",
      "10   2024-09-20       24750000  \n",
      "\n",
      "Tổng giá trị giao dịch: 347.00 triệu VND\n"
     ]
    }
   ],
   "source": [
    "import pandas as pd\n",
    "from datetime import datetime\n",
    "\n",
    "# Danh sách các mã cổ phiếu đã chọn\n",
    "stock_symbols = ['VCB', 'VCG', 'BID', 'GVR', 'VHM', 'POW', 'NT2', 'HAN', 'BAF', 'SSI', 'MBB']\n",
    "\n",
    "# Giá hiện tại của các mã cổ phiếu\n",
    "current_prices = {\n",
    "    \"VCB\": 88000,\n",
    "    \"VCG\": 18600,\n",
    "    \"BID\": 44000,\n",
    "    \"GVR\": 35000,\n",
    "    \"VHM\": 38000,\n",
    "    \"POW\": 14000,\n",
    "    \"NT2\": 22000,\n",
    "    \"HAN\": 11000,\n",
    "    \"BAF\": 19600,\n",
    "    \"SSI\": 34000,\n",
    "    \"MBB\": 22800\n",
    "}\n",
    "\n",
    "# Ngày giao dịch gần nhất\n",
    "current_date = datetime.now().strftime('%Y-%m-%d')\n",
    "\n",
    "# Tạo DataFrame với tất cả các cột\n",
    "data = {\n",
    "    \"Ngày mua\": [current_date] * len(stock_symbols),\n",
    "    \"Mã cổ phiếu\": stock_symbols,\n",
    "    \"Loại GD\": [\"BUY\"] * len(stock_symbols),\n",
    "    \"KLGD\": [1000] * len(stock_symbols),\n",
    "    \"Giá mua\": [current_prices[symbol] for symbol in stock_symbols],\n",
    "    \"Giá trị GD\": [current_prices[symbol] * 1000 for symbol in stock_symbols]\n",
    "}\n",
    "LTTrades = pd.DataFrame(data)\n",
    "\n",
    "# Thêm các cột mới\n",
    "for symbol in LTTrades['Mã cổ phiếu']:\n",
    "    symbol_data = intra_data[intra_data['Mã cổ phiếu'] == symbol]\n",
    "    if not symbol_data.empty:\n",
    "        LTTrades.loc[LTTrades['Mã cổ phiếu'] == symbol, 'Current_price'] = symbol_data['Price'].iloc[-1].astype(int)\n",
    "        LTTrades.loc[LTTrades['Mã cổ phiếu'] == symbol, 'Current_Date'] = symbol_data['Date'].iloc[-1]\n",
    "    else:\n",
    "        LTTrades.loc[LTTrades['Mã cổ phiếu'] == symbol, 'Current_price'] = None\n",
    "        LTTrades.loc[LTTrades['Mã cổ phiếu'] == symbol, 'Current_Date'] = None\n",
    "\n",
    "LTTrades['Current_price'] = LTTrades['Current_price'].astype('Int64')  # Chuyển đổi sang kiểu dữ liệu Int64 để hỗ trợ giá trị None\n",
    "LTTrades['Current value'] = (LTTrades['Current_price'] * LTTrades['KLGD']).astype('Int64')\n",
    "# LTTrades['P&L'] = (LTTrades['Current value'] - LTTrades['Giá trị GD']).astype('Int64')\n",
    "\n",
    "# Tính tổng giá trị giao dịch\n",
    "total_value = LTTrades['Giá trị GD'].sum()\n",
    "\n",
    "# Chuyển đổi sang đơn vị triệu VND\n",
    "total_value_million = total_value / 1_000_000\n",
    "\n",
    "# Hiển thị DataFrame và tổng giá trị giao dịch\n",
    "print(LTTrades)\n",
    "print(f\"\\nTổng giá trị giao dịch: {total_value_million:.2f} triệu VND\")\n",
    "\n"
   ]
  },
  {
   "cell_type": "markdown",
   "metadata": {},
   "source": [
    "BIỂU BỒ GIÁ THEO KHỐI LƯỢNG TRONG NGÀY"
   ]
  },
  {
   "cell_type": "code",
   "execution_count": 6,
   "metadata": {},
   "outputs": [
    {
     "data": {
      "image/png": "[encoded data removed]",
      "text/plain": [
       "<Figure size 1200x800 with 1 Axes>"
      ]
     },
     "metadata": {},
     "output_type": "display_data"
    }
   ],
   "source": [
    "import pandas as pd\n",
    "import seaborn as sns\n",
    "import matplotlib.pyplot as plt\n",
    "\n",
    "# Giả sử df là DataFrame chứa dữ liệu intraday của cổ phiếu\n",
    "df = stock.quote.intraday(symbol='SSI', show_log=False)\n",
    "\n",
    "# Nhóm dữ liệu theo cột 'price' và tính tổng volume cho từng nhóm\n",
    "volume_by_price = df.groupby('price')['volume'].sum().reset_index()\n",
    "\n",
    "# Đổi tên các cột cho rõ ràng\n",
    "volume_by_price.columns = ['Price', 'Total Volume']\n",
    "\n",
    "# Tạo cột 'total_value' bằng cách nhân 'Price' với 'Total Volume'\n",
    "volume_by_price['total_value'] = volume_by_price['Price'] * volume_by_price['Total Volume']\n",
    "\n",
    "# Vẽ biểu đồ cột sử dụng Seaborn với độ rộng cột được điều chỉnh\n",
    "plt.figure(figsize=(12, 8))\n",
    "sns.barplot(x='Price', y='Total Volume', data=volume_by_price, palette='viridis', width=0.5)\n",
    "plt.xlabel('Price', fontsize=14)\n",
    "plt.ylabel('Total Volume', fontsize=14)\n",
    "plt.title('Volume theo từng mức giá', fontsize=16)\n",
    "plt.xticks(rotation=45)\n",
    "plt.grid(axis='y')\n",
    "\n",
    "# Hiển thị biểu đồ\n",
    "plt.show()\n"
   ]
  },
  {
   "cell_type": "code",
   "execution_count": null,
   "metadata": {},
   "outputs": [],
   "source": []
  },
  {
   "cell_type": "code",
   "execution_count": 7,
   "metadata": {},
   "outputs": [
    {
     "name": "stdout",
     "output_type": "stream",
     "text": [
      "                  Time Stock Symbol    Price        Date\n",
      "0  2024-09-04 09:26:15          MBB  24450.0  2024-09-04\n",
      "1  2024-09-04 09:26:13          BID  48750.0  2024-09-04\n",
      "2  2024-09-04 09:25:57          VCB  90900.0  2024-09-04\n",
      "3  2024-09-04 09:26:00          VHM  41150.0  2024-09-04\n",
      "4  2024-09-04 09:24:24          AMV   3000.0  2024-09-04\n",
      "5  2024-09-04 09:25:49          BVB  11400.0  2024-09-04\n",
      "6  2024-09-04 09:23:58          PAN  22600.0  2024-09-04\n",
      "7  2024-09-04 09:26:23          TNG  26700.0  2024-09-04\n",
      "8  2024-09-04 09:26:11          SSI  33200.0  2024-09-04\n",
      "9  2024-09-04 09:26:20          POW  13250.0  2024-09-04\n",
      "10 2024-09-04 09:25:37          NT2  19550.0  2024-09-04\n",
      "11 2024-09-04 09:20:03          VLB  36000.0  2024-09-04\n",
      "12 2024-09-04 09:26:11          TVN   9400.0  2024-09-04\n",
      "13 2024-09-04 09:26:18          DBC  27850.0  2024-09-04\n",
      "14 2024-09-04 09:10:41          MML  25600.0  2024-09-04\n",
      "15 2024-09-04 09:26:06          GVR  34600.0  2024-09-04\n",
      "16 2024-09-04 09:26:12          VCG  18650.0  2024-09-04\n",
      "17 2024-09-04 09:08:23          HAN  10900.0  2024-09-04\n",
      "18 2024-09-04 09:25:40          BAF  18100.0  2024-09-04\n",
      "19 2024-09-04 09:25:13          ADS  10200.0  2024-09-04\n",
      "20 2024-09-04 09:26:08          YEG   9080.0  2024-09-04\n"
     ]
    }
   ],
   "source": [
    "import pandas as pd\n",
    "from datetime import datetime\n",
    "\n",
    "# Danh sách các mã cổ phiếu\n",
    "symbols = ['MBB', 'BID', 'VCB', 'VHM', 'AMV', 'BVB', 'PAN', 'TNG', 'SSI', 'POW', 'NT2', 'VLB', 'TVN', 'DBC', 'MML', 'GVR', 'VCG', 'HAN', 'BAF', 'ADS', 'YEG']\n",
    "\n",
    "# Tạo danh sách để lưu trữ dữ liệu\n",
    "data = []\n",
    "\n",
    "for symbol in symbols:\n",
    "    df = stock.quote.intraday(symbol=symbol, show_log=False)\n",
    "    # Chuyển đổi cột 'time' thành kiểu datetime\n",
    "    df['time'] = pd.to_datetime(df['time'])\n",
    "    # Sắp xếp DataFrame theo cột 'time' giảm dần (thời gian mới nhất lên đầu tiên)\n",
    "    df_sorted = df.sort_values(by='time', ascending=False)\n",
    "    # Lấy dòng đầu tiên (thời gian gần nhất)\n",
    "    latest_time = df_sorted.iloc[0]['time']\n",
    "    latest_price = df_sorted.iloc[0]['price']\n",
    "    # Thêm dữ liệu vào danh sách\n",
    "    data.append([symbol, latest_time, latest_price])\n",
    "\n",
    "# Tạo DataFrame từ danh sách dữ liệu\n",
    "result_df = pd.DataFrame(data, columns=['Stock Symbol', 'Time', 'Price'])\n",
    "\n",
    "# Đảm bảo cột 'Time' là kiểu datetime\n",
    "result_df['Time'] = pd.to_datetime(result_df['Time'])\n",
    "\n",
    "# Tạo thêm cột 'Date' từ cột 'Time'\n",
    "result_df['Date'] = result_df['Time'].dt.date\n",
    "\n",
    "# Đổi chỗ cột 'Time' và 'Mã cổ phiếu'\n",
    "result_df = result_df[['Time', 'Stock Symbol', 'Price', 'Date']]\n",
    "\n",
    "# Hiển thị DataFrame kết quả\n",
    "print(result_df)"
   ]
  },
  {
   "cell_type": "code",
   "execution_count": 7,
   "metadata": {},
   "outputs": [
    {
     "name": "stdout",
     "output_type": "stream",
     "text": [
      "Symbol: vcg, Trading Date: 2024-07-31, Price: 18250.0\n",
      "Symbol: mbb, Trading Date: 2024-07-31, Price: 24750.0\n",
      "Symbol: yeg, Trading Date: 2024-07-31, Price: 9630.0\n",
      "Symbol: bid, Trading Date: 2024-07-31, Price: 48350.0\n",
      "Symbol: vcb, Trading Date: 2024-07-31, Price: 88400.0\n"
     ]
    }
   ],
   "source": [
    "def get_stock_info_for_symbols(symbols):\n",
    "    stock_info = {}\n",
    "    \n",
    "    for symbol in symbols:\n",
    "        # Fetch and sort the intraday stock data\n",
    "        price_df_sorted = stock.quote.intraday(symbol=symbol, show_log=False).sort_values(by='time', ascending=False)\n",
    "        \n",
    "        # Extracting the date from the 'time' column\n",
    "        trading_date = price_df_sorted.iloc[0]['time'].strftime('%Y-%m-%d')\n",
    "        \n",
    "        # Extracting the price from the first row\n",
    "        price = price_df_sorted.iloc[0]['price']\n",
    "        \n",
    "        # Storing the extracted information in the dictionary\n",
    "        stock_info[symbol] = (symbol, trading_date, price)\n",
    "    \n",
    "    return stock_info\n",
    "\n",
    "# Example usage:\n",
    "symbols = ['vcg', 'mbb', 'yeg','bid','vcb']\n",
    "stocks_info = get_stock_info_for_symbols(symbols)\n",
    "for symbol, info in stocks_info.items():\n",
    "    print(f\"Symbol: {info[0]}, Trading Date: {info[1]}, Price: {info[2]}\")\n",
    "\n",
    "\n",
    "\n"
   ]
  },
  {
   "cell_type": "code",
   "execution_count": 12,
   "metadata": {},
   "outputs": [
    {
     "name": "stderr",
     "output_type": "stream",
     "text": [
      "2024-07-31 14:37:04,469 - vnstock3.common.data.data_explorer - WARNING - Thông tin niêm yết & giao dịch sẽ được truy xuất từ TCBS\n"
     ]
    },
    {
     "data": {
      "text/plain": [
       "Index(['CP', 'Năm', 'Kỳ', 'Hàng tồn kho ròng', 'Tài sản lưu động khác',\n",
       "       'Giá trị ròng tài sản đầu tư', 'Tài sản dài hạn khác', 'Các quỹ khác',\n",
       "       'Các quỹ khác', 'Vốn Ngân sách nhà nước và quỹ khác',\n",
       "       'Vốn Ngân sách nhà nước và quỹ khác', 'LỢI ÍCH CỦA CỔ ĐÔNG THIỂU SỐ',\n",
       "       'Lợi thế thương mại', 'Tiền gửi tại ngân hàng nhà nước Việt Nam',\n",
       "       'Tiền gửi tại các TCTD khác và cho vay các TCTD khác',\n",
       "       'Dự phòng giảm giá chứng khoán kinh doanh',\n",
       "       'Các công cụ tài chính phái sinh và khoản nợ tài chính khác',\n",
       "       'Các công cụ tài chính phái sinh và khoản nợ tài chính khác',\n",
       "       'Cho vay khách hàng', 'Cho vay khách hàng',\n",
       "       'Dự phòng rủi ro cho vay khách hàng',\n",
       "       'Chứng khoán đầu tư sẵn sàng để bán',\n",
       "       'Chứng khoán đầu tư giữ đến ngày đáo hạn',\n",
       "       'Dự phòng giảm giá chứng khoán đầu tư', 'Đầu tư vào công ty con',\n",
       "       'Đầu tư vào công ty liên doanh', 'Dự phòng giảm giá đầu tư dài hạn',\n",
       "       'Tài sản cố định hữu hình', 'Tài sản cố định thuê tài chính',\n",
       "       'Tài sản cố định vô hình', 'Tài sản Có khác',\n",
       "       'Các khoản nợ chính phủ và NHNN Việt Nam',\n",
       "       'Tiền gửi và vay các Tổ chức tín dụng khác', 'Tiền gửi của khách hàng',\n",
       "       'Vốn tài trợ, uỷ thác đầu tư của CP và các tổ chức TD khác',\n",
       "       'Phát hành giấy tờ có giá', 'Các khoản nợ khác',\n",
       "       'Vốn của tổ chức tín dụng', 'Quỹ của tổ chức tín dụng',\n",
       "       'Chênh lệch tỷ giá hối đoái', 'Chênh lệch đánh giá lại tài sản',\n",
       "       'TÀI SẢN NGẮN HẠN (Tỷ đồng)', 'Tiền và tương đương tiền (Tỷ đồng)',\n",
       "       'Giá trị thuần đầu tư ngắn hạn (Tỷ đồng)',\n",
       "       'Các khoản phải thu ngắn hạn (Tỷ đồng)',\n",
       "       'Trả trước cho người bán ngắn hạn (Tỷ đồng)',\n",
       "       'Phải thu về cho vay ngắn hạn (Tỷ đồng)',\n",
       "       'Hàng tồn kho, ròng (Tỷ đồng)', 'Tài sản lưu động khác (Tỷ đồng)',\n",
       "       'TÀI SẢN DÀI HẠN (Tỷ đồng)', 'TỔNG CỘNG NGUỒN VỐN (Tỷ đồng)',\n",
       "       'Lãi chưa phân phối (Tỷ đồng)', 'Quỹ đầu tư và phát triển (Tỷ đồng)',\n",
       "       'Cổ phiếu phổ thông (Tỷ đồng)', 'Vốn góp của chủ sở hữu (Tỷ đồng)',\n",
       "       'Vốn và các quỹ (Tỷ đồng)', 'VỐN CHỦ SỞ HỮU (Tỷ đồng)',\n",
       "       'Trái phiếu chuyển đổi (Tỷ đồng)',\n",
       "       'Vay và nợ thuê tài chính dài hạn (Tỷ đồng)', 'Nợ dài hạn (Tỷ đồng)',\n",
       "       'Người mua trả tiền trước ngắn hạn (Tỷ đồng)',\n",
       "       'Vay và nợ thuê tài chính ngắn hạn (Tỷ đồng)', 'Nợ ngắn hạn (Tỷ đồng)',\n",
       "       'NỢ PHẢI TRẢ (Tỷ đồng)', 'TỔNG CỘNG TÀI SẢN (Tỷ đồng)',\n",
       "       'Lợi thế thương mại (Tỷ đồng)', 'Trả trước dài hạn (Tỷ đồng)',\n",
       "       'Tài sản dài hạn khác (Tỷ đồng)', 'Đầu tư dài hạn (Tỷ đồng)',\n",
       "       'Tài sản cố định (Tỷ đồng)', 'Phải thu dài hạn khác (Tỷ đồng)',\n",
       "       'Phải thu về cho vay dài hạn (Tỷ đồng)', 'Phải thu dài hạn (Tỷ đồng)'],\n",
       "      dtype='object')"
      ]
     },
     "execution_count": 12,
     "metadata": {},
     "output_type": "execute_result"
    }
   ],
   "source": [
    "\n",
    "# price_df = stock.quote.intraday(symbol='PAN', show_log=False)\n",
    "stock = Vnstock().stock(symbol='yeg', source='VCI')\n",
    "df = stock.finance.balance_sheet(symbol = 'PAN' ,period='quaterly', lang='vi')\n",
    "df.columns\n",
    "\n",
    "\n",
    "\n"
   ]
  },
  {
   "cell_type": "markdown",
   "metadata": {},
   "source": [
    "information_table"
   ]
  },
  {
   "cell_type": "markdown",
   "metadata": {},
   "source": [
    "DÙNG DEEP LEARNING ĐỂ DỰ ĐOÁN GIÁ CHỨNG KHOÁN "
   ]
  },
  {
   "cell_type": "code",
   "execution_count": null,
   "metadata": {},
   "outputs": [],
   "source": []
  },
  {
   "cell_type": "code",
   "execution_count": null,
   "metadata": {},
   "outputs": [],
   "source": []
  },
  {
   "cell_type": "code",
   "execution_count": null,
   "metadata": {},
   "outputs": [],
   "source": []
  },
  {
   "cell_type": "code",
   "execution_count": null,
   "metadata": {},
   "outputs": [],
   "source": []
  },
  {
   "cell_type": "code",
   "execution_count": null,
   "metadata": {},
   "outputs": [],
   "source": []
  },
  {
   "cell_type": "code",
   "execution_count": null,
   "metadata": {},
   "outputs": [],
   "source": []
  },
  {
   "cell_type": "code",
   "execution_count": null,
   "metadata": {},
   "outputs": [],
   "source": []
  },
  {
   "cell_type": "code",
   "execution_count": null,
   "metadata": {},
   "outputs": [],
   "source": []
  }
 ],
 "metadata": {
  "kernelspec": {
   "display_name": "Python 3",
   "language": "python",
   "name": "python3"
  },
  "language_info": {
   "codemirror_mode": {
    "name": "ipython",
    "version": 3
   },
   "file_extension": ".py",
   "mimetype": "text/x-python",
   "name": "python",
   "nbconvert_exporter": "python",
   "pygments_lexer": "ipython3",
   "version": "3.11.9"
  }
 },
 "nbformat": 4,
 "nbformat_minor": 2
}
